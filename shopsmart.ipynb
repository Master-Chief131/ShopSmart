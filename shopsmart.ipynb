{
  "nbformat": 4,
  "nbformat_minor": 0,
  "metadata": {
    "colab": {
      "provenance": [],
      "authorship_tag": "ABX9TyOSUn8qjvTrsk70kI0dHYDg",
      "include_colab_link": true
    },
    "kernelspec": {
      "name": "python3",
      "display_name": "Python 3"
    },
    "language_info": {
      "name": "python"
    }
  },
  "cells": [
    {
      "cell_type": "markdown",
      "metadata": {
        "id": "view-in-github",
        "colab_type": "text"
      },
      "source": [
        "<a href=\"https://colab.research.google.com/github/Master-Chief131/ShopSmart/blob/main/shopsmart.ipynb\" target=\"_parent\"><img src=\"https://colab.research.google.com/assets/colab-badge.svg\" alt=\"Open In Colab\"/></a>"
      ]
    },
    {
      "cell_type": "markdown",
      "source": [
        "# **Realizar Scraping**\n",
        "## Ahora vamos a realizar un script para extraer todos los productos de la pagina de super 99, y lo haremos navegando por las categorias"
      ],
      "metadata": {
        "id": "2S3rSYm0Jgdk"
      }
    },
    {
      "cell_type": "markdown",
      "source": [
        "Como primer paso vamos a ver como clasifica sus productos super 99, para eso vamos a extrar el menu de su pagina principal"
      ],
      "metadata": {
        "id": "vriLCyn5Jm57"
      }
    },
    {
      "cell_type": "code",
      "execution_count": null,
      "metadata": {
        "id": "obhm4b8CIzvj"
      },
      "outputs": [],
      "source": [
        "from bs4 import BeautifulSoup\n",
        "import requests\n",
        "import re\n",
        "import csv"
      ]
    },
    {
      "cell_type": "markdown",
      "source": [
        "Primero definimos la url base y parseamos el archivo html para poder navegar por su contenido"
      ],
      "metadata": {
        "id": "yH0JWsruJqGb"
      }
    },
    {
      "cell_type": "code",
      "source": [
        "# Pagina de super 99\n",
        "URL_BASE = \"https://www.super99.com\"\n",
        "respuesta_obtenida = requests.get(URL_BASE)\n",
        "html_home = respuesta_obtenida.text\n",
        "\n",
        "# Parsear el html\n",
        "super99_home = BeautifulSoup(html_home, \"html.parser\")"
      ],
      "metadata": {
        "id": "yYW9CBefJMvN"
      },
      "execution_count": null,
      "outputs": []
    },
    {
      "cell_type": "markdown",
      "source": [
        "Ahora debemos buscar el contenido del menu y buscar su enlace para realizar una busqueda de todos los productos por pagina"
      ],
      "metadata": {
        "id": "AMcmZt0jJuHa"
      }
    },
    {
      "cell_type": "code",
      "source": [
        "categorias = super99_home.find_all(\"a\", class_=\"level-top\")\n",
        "\n",
        "categoria = []\n",
        "\n",
        "for enlace in categorias:\n",
        "    categoria.append(enlace[\"href\"])"
      ],
      "metadata": {
        "id": "NC4iiZd7JT4L"
      },
      "execution_count": null,
      "outputs": []
    },
    {
      "cell_type": "markdown",
      "source": [
        "Una vez tenemos los enlaces a las paginas debemos ir a cada categoria y obtener sus productos"
      ],
      "metadata": {
        "id": "LRijY1qxJxKF"
      }
    },
    {
      "cell_type": "code",
      "source": [
        "# usar el primer enlace\n",
        "Url_productos = categoria[0]\n",
        "respuesta_productos = requests.get(Url_productos)\n",
        "html_productos = respuesta_productos.text\n",
        "\n",
        "# Parsear el html\n",
        "super99_productos = BeautifulSoup(html_productos, \"html.parser\")"
      ],
      "metadata": {
        "id": "NIacoMSQJy6K"
      },
      "execution_count": null,
      "outputs": []
    },
    {
      "cell_type": "markdown",
      "source": [
        "Revisamos cuantas paginas tiene esa categoria"
      ],
      "metadata": {
        "id": "F4aeER-1J0bi"
      }
    },
    {
      "cell_type": "code",
      "source": [
        "# El enlace a la ultima pagina de esa categoria\n",
        "paginas = super99_productos.find(\"a\", class_=\"page last\")\n",
        "\n",
        "# devuelve dos span\n",
        "spans = paginas.find_all(\"span\")\n",
        "\n",
        "span_sin_clase = [span for span in spans if not span.get(\"class\")]\n",
        "\n",
        "# utilizamos el bucle for para extraer el span con el numero y lo convertimos a entero\n",
        "if span_sin_clase:\n",
        "    numero_pagina = int(span_sin_clase[0].text.strip())\n",
        "    print(f\"Número de la última página: {numero_pagina}\") # Lo usaremos para iterar las paginas\n",
        "else:\n",
        "    print(\"No se encontró un <span> sin clase.\")"
      ],
      "metadata": {
        "id": "QaIaPP6iJ2iN"
      },
      "execution_count": null,
      "outputs": []
    },
    {
      "cell_type": "markdown",
      "source": [
        "Primero descarguemos las imagenes"
      ],
      "metadata": {
        "id": "3-NPK6qfJ5Tm"
      }
    },
    {
      "cell_type": "code",
      "source": [
        "# Buscar las imagenes\n",
        "src_productos = super99_productos.find_all(\"img\", class_=\"product-image-photo\")\n",
        "\n",
        "nombre_productos = []\n",
        "url_imagenes = []\n",
        "\n",
        "for i, imagen in enumerate(src_productos):\n",
        "    url_imagenes.append(imagen[\"src\"])\n",
        "    nombre_productos.append(imagen[\"alt\"].strip())"
      ],
      "metadata": {
        "id": "gGo0EUQPJ551"
      },
      "execution_count": null,
      "outputs": []
    },
    {
      "cell_type": "markdown",
      "source": [],
      "metadata": {
        "id": "8j3WO7H-KAAc"
      }
    },
    {
      "cell_type": "code",
      "source": [
        " Las url tienen atributos incrustados\n",
        "# Limpiar las url\n",
        "cleaned_urls = [re.sub(r'\\?.*', '', url) for url in url_imagenes]\n",
        "cleaned_names = [re.sub(r\"/\", \"-\", re.sub(r\" \", \"_\", name)) for name in nombre_productos]"
      ],
      "metadata": {
        "id": "01BLHAE_J_au"
      },
      "execution_count": null,
      "outputs": []
    },
    {
      "cell_type": "markdown",
      "source": [
        "Para poder distinguir las imagenes las guardaremos con el nombre del producto"
      ],
      "metadata": {
        "id": "IdKy9RjTKD7U"
      }
    },
    {
      "cell_type": "code",
      "source": [
        "# Descargamos las imagenes y las enumeramos\n",
        "for i, imagen in enumerate(cleaned_urls):\n",
        "  nombre_p = cleaned_names[i]\n",
        "  r = requests.get(imagen)\n",
        "  with open(f\"{nombre_p}.png\", \"wb\") as f:\n",
        "    f.write(r.content)"
      ],
      "metadata": {
        "id": "vDmNhqzjKFkG"
      },
      "execution_count": null,
      "outputs": []
    },
    {
      "cell_type": "markdown",
      "source": [
        "Ahora buscamos el nombre y el precio de los productos"
      ],
      "metadata": {
        "id": "8m4jWYaEKHRb"
      }
    },
    {
      "cell_type": "code",
      "source": [
        "# extraer el nombre y el precio de los productos\n",
        "producto_info = super99_productos.find_all(\"div\", class_=\"details-info-product\")\n",
        "\n",
        "producto_nombre = []\n",
        "producto_precio = []\n",
        "\n",
        "for info in producto_info:\n",
        "    nombre = info.find(\"a\", class_=\"product-item-link\").text.strip().replace(\"/\", \"-\").replace(\" \", \"_\")\n",
        "    precio = info.find(\"span\", class_=\"price-wrapper\").text.strip().replace(\"$\", \"\")\n",
        "    producto_nombre.append(nombre)\n",
        "    producto_precio.append(precio)"
      ],
      "metadata": {
        "id": "QIerPpo9KJTb"
      },
      "execution_count": null,
      "outputs": []
    },
    {
      "cell_type": "code",
      "source": [
        "producto_nombre.insert(0, \"Producto\")\n",
        "producto_precio.insert(0, \"Precio\")"
      ],
      "metadata": {
        "id": "yUSlw_VtKK3L"
      },
      "execution_count": null,
      "outputs": []
    },
    {
      "cell_type": "code",
      "source": [
        "datos = dict(zip(producto_nombre, producto_precio))"
      ],
      "metadata": {
        "id": "sytMBpRxKMZb"
      },
      "execution_count": null,
      "outputs": []
    },
    {
      "cell_type": "code",
      "source": [
        "with open('datos.csv', 'w') as csvfile:\n",
        "    writer = csv.writer(csvfile)\n",
        "    for key, value in datos.items():\n",
        "        writer.writerow([key, value])"
      ],
      "metadata": {
        "id": "VL-FbVZqKOD4"
      },
      "execution_count": null,
      "outputs": []
    }
  ]
}